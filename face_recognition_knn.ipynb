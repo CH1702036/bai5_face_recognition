{
 "cells": [
  {
   "cell_type": "markdown",
   "metadata": {},
   "source": [
    "Họ tên: Nguyễn Việt Hùng\n",
    "\n",
    "MSHV: CH1702036\n",
    "\n",
    "\n",
    "\n"
   ]
  },
  {
   "cell_type": "markdown",
   "metadata": {},
   "source": [
    "                                            BÁO CÁO ĐỒ ÁN MÔN HỌC\n",
    "                                    Đề tài: Bài toán nhận diện khuôn mặt"
   ]
  },
  {
   "cell_type": "markdown",
   "metadata": {},
   "source": [
    "# 1. Mô tả bài toán \n",
    "\n",
    "Input: \n",
    "    Hình ảnh chứa nhiều khuôn mặt của nhiều người chưa biết\n",
    "    Bộ dữ liệu huấn luyện gồm nhiều khuôn mặt của rất nhiều người và gán nhãn (label) là tên người đó\n",
    "    \n",
    "Output:\n",
    "    Nhận diện ra khuôn mặt trong các bức hình trên (bounding box) và gán nhãn cho khuôn mặt đó\n",
    "    Hiệu suất: tỉ lệ số khuôn mặt được nhận diện đúng so với tổng số khuôn mặt\n",
    "    \n",
    "Kĩ thuật sử dụng: k-nearest-neighbors (KNN)"
   ]
  },
  {
   "attachments": {},
   "cell_type": "markdown",
   "metadata": {},
   "source": [
    "# 2. Giải thích code\n",
    "\n",
    "Yêu cầu:\n",
    "\n",
    "Cài đặt một số thư viện: face_recognition, dlib, scikit-learn\n",
    "Tạo thư mục chứa bộ dữ liệu huấn luyện là train_data theo cấu trúc:\n",
    "<img src=\"images\\1.png\">\n",
    "với label1, label2… là tên các nhãn ứng với tên mỗi người\n",
    "    \n",
    "Tạo các thư mục là test_data chứa hình ảnh input cần nhận diện và result_data để chứa hình ảnh output sau khi nhận diện thành công.\n"
   ]
  },
  {
   "cell_type": "markdown",
   "metadata": {},
   "source": [
    "# Bước 1: khai báo thư viện và biến toàn cục "
   ]
  },
  {
   "cell_type": "code",
   "execution_count": 46,
   "metadata": {},
   "outputs": [],
   "source": [
    "import math\n",
    "from sklearn import neighbors\n",
    "import os\n",
    "import os.path\n",
    "import pickle\n",
    "from PIL import Image, ImageDraw\n",
    "import face_recognition\n",
    "from face_recognition.face_recognition_cli import image_files_in_folder\n",
    "\n",
    "ALLOWED_EXTENSIONS = {'png', 'jpg', 'jpeg'}\n"
   ]
  },
  {
   "cell_type": "markdown",
   "metadata": {},
   "source": [
    "# Bước 2: Định nghĩa hàm train để train bộ dữ liệu huấn luyện cho quá trình nhận điện\n",
    "\n",
    "Tham số cần truyền vào là đường dẫn tập huấn luyện (thư mục train_data), đường dẫn lưu kết quả, số neighbors\n",
    "\n",
    "Hàm này sẽ trả về một file chứa kết quả huấn luyện cho KNN trên bộ dữ liệu train_data\n",
    "\n",
    "Biến X là mảng chứa các khuôn mặt để huấn luyện, Y là mảng lưu đường dẫn các label trong train_data\n"
   ]
  },
  {
   "cell_type": "code",
   "execution_count": 47,
   "metadata": {},
   "outputs": [],
   "source": [
    "def train(train_dir, model_save_path=None, n_neighbors=None, knn_algo='ball_tree', verbose=False):\n",
    "\n",
    "    X = []\n",
    "    y = []   \n",
    "    i = 0\n",
    "    j = 0\n",
    "    # Vòng lặp for duyệt các thư mục hợp lệ chứa label trong tập huấn luyện\n",
    "    for class_dir in os.listdir(train_dir):\n",
    "        if not os.path.isdir(os.path.join(train_dir, class_dir)):\n",
    "            continue\n",
    "        i = i + 1\n",
    "        # Với mỗi thư mục trên tạo một vòng lặp duyệt các file hình ảnh trong đó\n",
    "        for img_path in image_files_in_folder(os.path.join(train_dir, class_dir)):\n",
    "            image = face_recognition.load_image_file(img_path)\n",
    "            \n",
    "            face_bounding_boxes = face_recognition.face_locations(image)\n",
    "            # Hàm face_bounding_boxes sẽ chỉ hợp lệ nếu lấy ra đúng 1 khuôn mặt từ mỗi hình\n",
    "            if len(face_bounding_boxes) != 1:\n",
    "                if verbose:\n",
    "                    print(\"Image {} not suitable for training: {}\".format(img_path, \"Didn't find a face\" if len(face_bounding_boxes) < 1 else \"Found more than one face\"))\n",
    "            else:\n",
    "                # Sau đó ta mã hóa khuôn mặt này và đưa vào tập huấn huyện (mảng X)\n",
    "                X.append(face_recognition.face_encodings(image, known_face_locations=face_bounding_boxes)[0])\n",
    "                y.append(class_dir)\n",
    "                j = j + 1\n",
    "    # Xác định số neighbors trong KNN classifier, sẽ được tự động chọn nếu không được truyền vào ở trên\n",
    "    if n_neighbors is None:\n",
    "        n_neighbors = int(round(math.sqrt(len(X))))\n",
    "        if verbose:\n",
    "            print(\"Chose n_neighbors automatically:\", n_neighbors)\n",
    "\n",
    "    # Gọi hàm neighbors.KneighborsClassifier để tạo và tập huấn cho KNN classifier trên tập huấn luyện X, ta truyền vào trọng số n_neighbors đã tính ở trên, tham số algorithm và weights\n",
    "    knn_clf = neighbors.KNeighborsClassifier(n_neighbors=n_neighbors, algorithm=knn_algo, weights='distance')\n",
    "    knn_clf.fit(X, y)\n",
    "\n",
    "    # lưu kết quả huấn luyện của KNN classifier vào file trained_knn_model.clf\n",
    "    if model_save_path is not None:\n",
    "        with open(model_save_path, 'wb') as f:\n",
    "            pickle.dump(knn_clf, f)\n",
    "    \n",
    "    print(\"Found total: {}\".format(i), \"Label and {}\".format(j),\" face in training data\")\n",
    "    return knn_clf\n"
   ]
  },
  {
   "attachments": {},
   "cell_type": "markdown",
   "metadata": {},
   "source": [
    "<img src=\"images/2.png\">"
   ]
  },
  {
   "cell_type": "markdown",
   "metadata": {},
   "source": [
    "\n",
    "\n",
    "\n",
    "# Bước 3: định nghĩa hàm predict để nhận dạng các khuôn mặt trong hình ảnh truyền vào bằng KNN classifier đã huấn luyện ở bước 2\n",
    "\n",
    "các tham số truyền vào gồm đường dẫn đến hình ảnh, KNN classifier, distance_threshold là 0.6 (khoảng cách để phân loại khuôn mặt, ngưỡng càng lớn thì dễ nhận dạng sai) \n",
    "\n",
    "Trả về danh sách các label và vị trí khuôn mặt (tọa độ bounding box) "
   ]
  },
  {
   "cell_type": "code",
   "execution_count": 48,
   "metadata": {},
   "outputs": [],
   "source": [
    "def predict(X_img_path, knn_clf=None, model_path=None, distance_threshold=0.6):\n",
    "\n",
    "    # Kiểm tra đường dẫn hình ảnh input có hợp lệ\n",
    "    if not os.path.isfile(X_img_path) or os.path.splitext(X_img_path)[1][1:] not in ALLOWED_EXTENSIONS:\n",
    "        raise Exception(\"Invalid image path: {}\".format(X_img_path))\n",
    "        \n",
    "    # Kiểm tra điều kiện: yêu cầu phải truyền vào tham số knn_clf ( là KNN classifier ở bước 2) hoặc đường dẫn đến đó\n",
    "    if knn_clf is None and model_path is None:\n",
    "        raise Exception(\"Must supply knn classifier either thourgh knn_clf or model_path\")\n",
    "\n",
    "    # Load KNN classifier  lên từ đường dẫn đã cung cấp (là file trained_knn_model.clf)\n",
    "    if knn_clf is None:\n",
    "        with open(model_path, 'rb') as f:\n",
    "            knn_clf = pickle.load(f)\n",
    "\n",
    "    # Load hình ảnh cần nhận dạng lên,  \n",
    "    X_img = face_recognition.load_image_file(X_img_path)\n",
    "    X_face_locations = face_recognition.face_locations(X_img)\n",
    "\n",
    "    # Trả về 0 nếu không tìm ra\n",
    "    if len(X_face_locations) == 0:\n",
    "        return []\n",
    "\n",
    "    # tìm vị trí khuôn mặt.\n",
    "    faces_encodings = face_recognition.face_encodings(X_img, known_face_locations=X_face_locations)\n",
    "\n",
    "    # Gọi hàm kneighbors để tìm kết quả phù hợp nhất từ knn_clf  với các khuôn mặt cần nhận dạng.\n",
    "    # Sau đó chọn ra các kết quả nằm trong ngưỡng closest_distances\n",
    "    closest_distances = knn_clf.kneighbors(faces_encodings, n_neighbors=1)\n",
    "    are_matches = [closest_distances[0][i][0] <= distance_threshold for i in range(len(X_face_locations))]\n",
    "\n",
    "    # Trả về danh sách các label và vị trí khuôn mặt (tọa độ bounding box) \n",
    "    # Những khuôn mặt không nhận dạng được sẽ trả về unknown\n",
    "\n",
    "    return [(pred, loc) if rec else (\"unknown\", loc) for pred, loc, rec in zip(knn_clf.predict(faces_encodings), X_face_locations, are_matches)]\n"
   ]
  },
  {
   "cell_type": "markdown",
   "metadata": {},
   "source": [
    "\n",
    "\n",
    "\n",
    "# Bước 4: định nghĩa hàm show_prediction_labels_on_image để hiển thị các khuôn mặt nhận dạng được lên hình\n",
    "\n",
    "Tham số truyền vào là đường dẫn hình ảnh cần nhận dạng và kết quả của hàm predict ở bước 3\n",
    "Sử dụng thư viện Image và ImageDraw để vẽ label và box lên hình\n"
   ]
  },
  {
   "cell_type": "code",
   "execution_count": 49,
   "metadata": {},
   "outputs": [],
   "source": [
    "def show_prediction_labels_on_image(image_file, predictions):\n",
    "    \n",
    "    #Sử dụng thư viện Image và ImageDraw để vẽ label và box lên hình\n",
    "    img_path = os.path.join(\"test_data\", image_file)\n",
    "    pil_image = Image.open(img_path).convert(\"RGB\")\n",
    "    draw = ImageDraw.Draw(pil_image)\n",
    "    # Vòng lặp: với mỗi tên label, tọa độ vị trí khuôn mặt lấy được từ hàm predict, ta vẽ bounding box quanh khuôn mặt lên hình\n",
    "    for name, (top, right, bottom, left) in predictions:\n",
    "        # vẽ bounding box\n",
    "        draw.rectangle(((left, top), (right, bottom)), outline=(0, 0, 255))\n",
    "\n",
    "        name = name.encode(\"UTF-8\")\n",
    "\n",
    "        # Sau đó vẽ thêm Label bên dưới bounding box\n",
    "        text_width, text_height = draw.textsize(name)\n",
    "        draw.rectangle(((left, bottom - text_height - 10), (right, bottom)), fill=(0, 0, 255), outline=(0, 0, 255))\n",
    "        draw.text((left + 12, bottom - text_height - 5), name, fill=(255, 255, 255, 255))\n",
    "\n",
    "    del draw\n",
    "\n",
    "    # Cuối cùng là show kết quả là hình ảnh cần nhận dạng đã vẽ thêm bounding box và gán nhãn cho các khuôn mặt nhận dạng được\n",
    "    pil_image.show()\n",
    "\n",
    "    # lưu vào thư mục result_data\n",
    "    pil_image.save(os.path.join(\"result_data\", image_file))\n",
    "\n"
   ]
  },
  {
   "cell_type": "markdown",
   "metadata": {},
   "source": [
    "# Bước 5: hàm main\n",
    "\n",
    " Gọi các hàm đã định nghĩa ở trên để train và nhận dạng khuôn mặt trong hình\n"
   ]
  },
  {
   "cell_type": "code",
   "execution_count": 50,
   "metadata": {},
   "outputs": [
    {
     "name": "stdout",
     "output_type": "stream",
     "text": [
      "Training KNN classifier...\n",
      "Found total: 28 Label and 42  face in training data\n",
      "Training complete!\n",
      "\n",
      "\n",
      "Looking for faces in test_1.png\n",
      "- Found VULQ\n",
      "- Found QUANVM\n",
      "- Found HOBV\n",
      "- Found DUYETLV\n",
      "- Found VULQ\n",
      "- Found HOAISD\n",
      "- Found TULG\n",
      "Recognized 7/7 faces found\n",
      "===============================\n",
      "Looking for faces in test_2.png\n",
      "- Found NHANTH\n",
      "Recognized 1/1 faces found\n",
      "===============================\n",
      "Looking for faces in test_3.png\n",
      "- Found HANTQ\n",
      "- Found TAIHPT\n",
      "- Found MINHHA\n",
      "- Found HOAISD\n",
      "- Found QUANVM\n",
      "- Found MINHHA\n",
      "- Found HOBV\n",
      "Recognized 7/7 faces found\n",
      "===============================\n",
      "Looking for faces in test_4.png\n",
      "- Found MINHHA\n",
      "- Found CUONGNT\n",
      "- Found THAODNT\n",
      "Recognized 3/3 faces found\n",
      "===============================\n"
     ]
    }
   ],
   "source": [
    "if __name__ == \"__main__\":\n",
    "    # đầu tiên ta huấn luyện KNN classifier từ bộ dữ liệu huấn luyện ở thư mục train_data và lưu lại vào file trained_knn_model.clf\n",
    "    print(\"Training KNN classifier...\")\n",
    "    classifier = train(\"train_data\", model_save_path=\"trained_knn_model.clf\", n_neighbors=2)\n",
    "    print(\"Training complete!\\n\\n\")\n",
    "\n",
    "    # Sau đó, với mỗi hình cần nhận diện trong thư mục test_data ta gọi hàm predict để nhận dạng, truyền vào kết quả huấn luyện ở bước trên.\n",
    "    # Mỗi khuôn mặt nhận diện được ta đều ghi log và hiển thị tên label lên màn hình\n",
    "\n",
    "    for image_file in os.listdir(\"test_data\"):\n",
    "        full_file_path = os.path.join(\"test_data\", image_file)\n",
    "\n",
    "        print(\"Looking for faces in {}\".format(image_file))\n",
    "\n",
    "        predictions = predict(full_file_path, model_path=\"trained_knn_model.clf\")\n",
    "\n",
    "        # hiển thị kết quả\n",
    "        count = 0\n",
    "        for name, (top, right, bottom, left) in predictions:\n",
    "            print(\"- Found {}\".format(name))\n",
    "            if name != \"unknown\":\n",
    "                count += 1\n",
    "\n",
    "        print(\"Recognized {}/{} faces found\".format(count, len(predictions)))\n",
    "        print(\"===============================\")\n",
    "\n",
    "        # Cuối cùng là gọi hàm show_prediction_labels_on_image để vẽ bounding box và gán nhãn lên từng khuôn mặt lên hình và lưu vào thư mục result_data\n",
    "        show_prediction_labels_on_image(image_file, predictions)\n"
   ]
  },
  {
   "attachments": {},
   "cell_type": "markdown",
   "metadata": {},
   "source": [
    "# 3. Đánh giá kết quả\n",
    "\n",
    " \n",
    " Tập huấn luyện (thư mục train_data): gồm 24 label, mỗi label chứa từ 1-5 khuôn mặt\n",
    " \n",
    " Tập hình ảnh cần nhận dạng (thư mục test_data): 4 hình\n",
    " \n"
   ]
  },
  {
   "attachments": {},
   "cell_type": "markdown",
   "metadata": {},
   "source": [
    "<img src=\"images\\test_1.png\">"
   ]
  },
  {
   "attachments": {},
   "cell_type": "markdown",
   "metadata": {},
   "source": [
    "<img src=\"images\\test_2.png\">"
   ]
  },
  {
   "attachments": {},
   "cell_type": "markdown",
   "metadata": {},
   "source": [
    "<img src=\"images\\test_3.png\">"
   ]
  },
  {
   "attachments": {},
   "cell_type": "markdown",
   "metadata": {},
   "source": [
    "<img src=\"images\\test_4.png\">"
   ]
  },
  {
   "cell_type": "markdown",
   "metadata": {},
   "source": [
    "#    Kết quả: (thư mục result_data)\n",
    "\n",
    "Hình 1: (số khuôn mặt nhận dạng đúng) / (số khuôn mặt nhận dạng được) = 4/7\n",
    "\n",
    "Hình 2: (số khuôn mặt nhận dạng đúng) / (số khuôn mặt nhận dạng được) = 0/1\n",
    "\n",
    "Hình 3: (số khuôn mặt nhận dạng đúng) / (số khuôn mặt nhận dạng được) = 6/7\n",
    "\n",
    "Hình 4: (số khuôn mặt nhận dạng đúng) / (số khuôn mặt nhận dạng được) = 0/3\n",
    "\n",
    "Tổng kết: (số khuôn mặt nhận dạng đúng) / (số khuôn mặt nhận dạng được) = 10/18"
   ]
  },
  {
   "cell_type": "markdown",
   "metadata": {},
   "source": [
    "#    Nhận xét:\n",
    "\n",
    "Ở chương trình này, kết quả (vẽ bounding box-gán label) chỉ tính cho những khuôn mặt nào mà nó nhận dạng ra được là khuôn mặt của ai, còn những khuôn mặt không biết sẽ bỏ qua, ví dụ như hình 1 ta thấy có 9 khuôn mặt nhưng chỉ nhận dạng có 7, nên ta không quan tâm đến hiệu suất nhận dạng được bao nhiêu trên tổng số khuôn mặt trong hình.\n",
    "\n",
    "Hiệu suất 10/18 là thấp, tuy nhiên hoàn toàn có thể tăng lên nhiều nếu bộ dữ liệu huấn luyện đầy đủ và chi tiết hơn (khoảng 3-4 hình/ 1 label), ví dụ khi cập nhật lại dữ liệu này (thêm 6 label) thì kết quả đã tăng 2 khuôn mặt nhận dạng đúng.\n",
    "\n",
    "\n",
    "Source code tham khảo: github.com/ageitgey/face_recognition"
   ]
  },
  {
   "cell_type": "code",
   "execution_count": null,
   "metadata": {},
   "outputs": [],
   "source": []
  }
 ],
 "metadata": {
  "kernelspec": {
   "display_name": "Python 3",
   "language": "python",
   "name": "python3"
  },
  "language_info": {
   "codemirror_mode": {
    "name": "ipython",
    "version": 3
   },
   "file_extension": ".py",
   "mimetype": "text/x-python",
   "name": "python",
   "nbconvert_exporter": "python",
   "pygments_lexer": "ipython3",
   "version": "3.6.8"
  }
 },
 "nbformat": 4,
 "nbformat_minor": 2
}
